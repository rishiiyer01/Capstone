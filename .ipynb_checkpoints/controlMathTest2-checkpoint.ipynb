{
 "cells": [
  {
   "cell_type": "code",
   "execution_count": 74,
   "metadata": {},
   "outputs": [
    {
     "name": "stdout",
     "output_type": "stream",
     "text": [
      "[[20.84966958  0.          5.37913924  0.          7.8714739   0.        ]\n",
      " [ 0.         20.84966958  0.          5.37913924  0.          7.8714739 ]]\n"
     ]
    }
   ],
   "source": [
    "import numpy as np\n",
    "import control.matlab as c\n",
    "import matplotlib.pyplot as plt\n",
    "I=4\n",
    "leverArm=0.1 #cp-cg, center of pressure-center of gravity\n",
    "CNa=37*np.pi/180\n",
    "#aerodynamic plant+control in a system of form xdot=Ax+Bu, where\n",
    "#x represents the state\n",
    "density=1;\n",
    "v=150; #roughly half the speed of sound, this is the freestream air speed\n",
    "A=0.25*np.pi*(6*25.4)**2;\n",
    "#C1=-CNa*leverArm*(0.5*density*v**2)/I;\n",
    "C1=14.6\n",
    "C2=-CNa*(leverArm**2)*(0.5*density*v)/I;\n",
    "leverArmMotor=0.25\n",
    "Thrust=92\n",
    "C3=Thrust*leverArmMotor/I\n",
    "\n",
    "A=np.array([[0, 0, 1, 0,0,0],\n",
    "            [0, 0, 0, 1,0,0],\n",
    "            [C1, 0, C2, 0,C3,0],\n",
    "            [0,C1, 0, C2,0,C3],\n",
    "            [0,0, 0, 0,0,0],\n",
    "            [0,0, 0, 0,0,0]]); \n",
    "\n",
    "B=[[0, 0], [0, 0], [0, 0],[0, 0],[1, 0],[0, 1]]\n",
    "Q=np.array([[1,0,0,0,0,0],[0,1,0,0,0,0],[0,0,1,0,0,0],[0,0,0,1,0,0],[0,0,0,0,1,0],[0,0,0,0,0,1]])\n",
    "R=10*np.eye(2)\n",
    "K, S, E = c.lqr(A, B, Q, R)\n",
    "print(K)"
   ]
  },
  {
   "cell_type": "code",
   "execution_count": 75,
   "metadata": {},
   "outputs": [
    {
     "data": {
      "image/png": "[encoded data removed]",
      "text/plain": [
       "<Figure size 432x288 with 1 Axes>"
      ]
     },
     "metadata": {
      "needs_background": "light"
     },
     "output_type": "display_data"
    }
   ],
   "source": [
    "# Define the closed-loop system\n",
    "sys_cl = c.ss(A - np.matmul(B,K), B, np.eye(6), np.zeros((6, 2)))\n",
    "\n",
    "# Define the time vector\n",
    "t = np.linspace(0, 10, 1000)\n",
    "\n",
    "# Define the initial condition\n",
    "x0 = [np.pi/12, 0, 0, 0, 0, 0]\n",
    "\n",
    "# Compute the step response of the closed-loop system\n",
    "x,t = c.impulse(sys_cl, t, X0=x0)\n",
    "# Plot the step response\n",
    "plt.plot(t, x[:,0], label='angle of attack 1')\n",
    "plt.plot(t,x[:,4],label='motor angle 1')\n",
    "plt.xlabel('Time [s]')\n",
    "plt.ylabel('Response')\n",
    "plt.legend()\n",
    "plt.grid()\n",
    "plt.show()"
   ]
  },
  {
   "cell_type": "code",
   "execution_count": 77,
   "metadata": {},
   "outputs": [
    {
     "ename": "ValueError",
     "evalue": "Parameter ``U``: Wrong shape (rows, columns): (1000, 2). Expected: (2, 1000).",
     "output_type": "error",
     "traceback": [
      "\u001b[0;31m---------------------------------------------------------------------------\u001b[0m",
      "\u001b[0;31mValueError\u001b[0m                                Traceback (most recent call last)",
      "Input \u001b[0;32mIn [77]\u001b[0m, in \u001b[0;36m<cell line: 16>\u001b[0;34m()\u001b[0m\n\u001b[1;32m     13\u001b[0m x0 \u001b[38;5;241m=\u001b[39m [\u001b[38;5;241m0\u001b[39m, \u001b[38;5;241m0\u001b[39m, \u001b[38;5;241m0\u001b[39m, \u001b[38;5;241m0\u001b[39m, \u001b[38;5;241m0\u001b[39m, \u001b[38;5;241m0\u001b[39m]\n\u001b[1;32m     15\u001b[0m \u001b[38;5;66;03m# Simulate the closed-loop system with the input signal\u001b[39;00m\n\u001b[0;32m---> 16\u001b[0m x,t \u001b[38;5;241m=\u001b[39m \u001b[43mc\u001b[49m\u001b[38;5;241;43m.\u001b[39;49m\u001b[43mlsim\u001b[49m\u001b[43m(\u001b[49m\u001b[43msys_cl\u001b[49m\u001b[43m,\u001b[49m\u001b[43m \u001b[49m\u001b[43mU\u001b[49m\u001b[38;5;241;43m=\u001b[39;49m\u001b[43mu\u001b[49m\u001b[43m,\u001b[49m\u001b[43m \u001b[49m\u001b[43mT\u001b[49m\u001b[38;5;241;43m=\u001b[39;49m\u001b[43mt\u001b[49m\u001b[43m,\u001b[49m\u001b[43m \u001b[49m\u001b[43mX0\u001b[49m\u001b[38;5;241;43m=\u001b[39;49m\u001b[43mx0\u001b[49m\u001b[43m)\u001b[49m\n\u001b[1;32m     18\u001b[0m \u001b[38;5;66;03m# Plot the response and input signals\u001b[39;00m\n\u001b[1;32m     19\u001b[0m fig, ax \u001b[38;5;241m=\u001b[39m plt\u001b[38;5;241m.\u001b[39msubplots()\n",
      "File \u001b[0;32m/Library/Frameworks/Python.framework/Versions/3.9/lib/python3.9/site-packages/control/matlab/timeresp.py:269\u001b[0m, in \u001b[0;36mlsim\u001b[0;34m(sys, U, T, X0)\u001b[0m\n\u001b[1;32m    266\u001b[0m \u001b[38;5;28;01mfrom\u001b[39;00m \u001b[38;5;21;01m.\u001b[39;00m\u001b[38;5;21;01m.\u001b[39;00m\u001b[38;5;21;01mtimeresp\u001b[39;00m \u001b[38;5;28;01mimport\u001b[39;00m forced_response\n\u001b[1;32m    268\u001b[0m \u001b[38;5;66;03m# Switch output argument order and transpose outputs (and always return x)\u001b[39;00m\n\u001b[0;32m--> 269\u001b[0m out \u001b[38;5;241m=\u001b[39m \u001b[43mforced_response\u001b[49m\u001b[43m(\u001b[49m\u001b[43msys\u001b[49m\u001b[43m,\u001b[49m\u001b[43m \u001b[49m\u001b[43mT\u001b[49m\u001b[43m,\u001b[49m\u001b[43m \u001b[49m\u001b[43mU\u001b[49m\u001b[43m,\u001b[49m\u001b[43m \u001b[49m\u001b[43mX0\u001b[49m\u001b[43m,\u001b[49m\u001b[43m \u001b[49m\u001b[43mreturn_x\u001b[49m\u001b[38;5;241;43m=\u001b[39;49m\u001b[38;5;28;43;01mTrue\u001b[39;49;00m\u001b[43m,\u001b[49m\u001b[43m \u001b[49m\u001b[43mtranspose\u001b[49m\u001b[38;5;241;43m=\u001b[39;49m\u001b[38;5;28;43;01mTrue\u001b[39;49;00m\u001b[43m)\u001b[49m\n\u001b[1;32m    270\u001b[0m \u001b[38;5;28;01mreturn\u001b[39;00m out[\u001b[38;5;241m1\u001b[39m], out[\u001b[38;5;241m0\u001b[39m], out[\u001b[38;5;241m2\u001b[39m]\n",
      "File \u001b[0;32m/Library/Frameworks/Python.framework/Versions/3.9/lib/python3.9/site-packages/control/timeresp.py:1002\u001b[0m, in \u001b[0;36mforced_response\u001b[0;34m(sys, T, U, X0, transpose, interpolate, return_x, squeeze)\u001b[0m\n\u001b[1;32m    999\u001b[0m \u001b[38;5;66;03m# Test if U has correct shape and type\u001b[39;00m\n\u001b[1;32m   1000\u001b[0m legal_shapes \u001b[38;5;241m=\u001b[39m [(n_steps,), (\u001b[38;5;241m1\u001b[39m, n_steps)] \u001b[38;5;28;01mif\u001b[39;00m n_inputs \u001b[38;5;241m==\u001b[39m \u001b[38;5;241m1\u001b[39m \u001b[38;5;28;01melse\u001b[39;00m \\\n\u001b[1;32m   1001\u001b[0m     [(n_inputs, n_steps)]\n\u001b[0;32m-> 1002\u001b[0m U \u001b[38;5;241m=\u001b[39m \u001b[43m_check_convert_array\u001b[49m\u001b[43m(\u001b[49m\u001b[43mU\u001b[49m\u001b[43m,\u001b[49m\u001b[43m \u001b[49m\u001b[43mlegal_shapes\u001b[49m\u001b[43m,\u001b[49m\n\u001b[1;32m   1003\u001b[0m \u001b[43m                         \u001b[49m\u001b[38;5;124;43m'\u001b[39;49m\u001b[38;5;124;43mParameter ``U``: \u001b[39;49m\u001b[38;5;124;43m'\u001b[39;49m\u001b[43m,\u001b[49m\u001b[43m \u001b[49m\u001b[43msqueeze\u001b[49m\u001b[38;5;241;43m=\u001b[39;49m\u001b[38;5;28;43;01mFalse\u001b[39;49;00m\u001b[43m,\u001b[49m\n\u001b[1;32m   1004\u001b[0m \u001b[43m                         \u001b[49m\u001b[43mtranspose\u001b[49m\u001b[38;5;241;43m=\u001b[39;49m\u001b[43mtranspose\u001b[49m\u001b[43m)\u001b[49m\n\u001b[1;32m   1006\u001b[0m xout \u001b[38;5;241m=\u001b[39m np\u001b[38;5;241m.\u001b[39mzeros((n_states, n_steps))\n\u001b[1;32m   1007\u001b[0m xout[:, \u001b[38;5;241m0\u001b[39m] \u001b[38;5;241m=\u001b[39m X0\n",
      "File \u001b[0;32m/Library/Frameworks/Python.framework/Versions/3.9/lib/python3.9/site-packages/control/timeresp.py:805\u001b[0m, in \u001b[0;36m_check_convert_array\u001b[0;34m(in_obj, legal_shapes, err_msg_start, squeeze, transpose)\u001b[0m\n\u001b[1;32m    802\u001b[0m     legal_shape_str \u001b[38;5;241m=\u001b[39m \u001b[38;5;124m\"\u001b[39m\u001b[38;5;124m or \u001b[39m\u001b[38;5;124m\"\u001b[39m\u001b[38;5;241m.\u001b[39mjoin([\u001b[38;5;28mstr\u001b[39m(s) \u001b[38;5;28;01mfor\u001b[39;00m s \u001b[38;5;129;01min\u001b[39;00m legal_shapes])\n\u001b[1;32m    803\u001b[0m     err_msg \u001b[38;5;241m=\u001b[39m \u001b[38;5;124m\"\u001b[39m\u001b[38;5;124mWrong shape (rows, columns): \u001b[39m\u001b[38;5;132;01m{a}\u001b[39;00m\u001b[38;5;124m. Expected: \u001b[39m\u001b[38;5;132;01m{e}\u001b[39;00m\u001b[38;5;124m.\u001b[39m\u001b[38;5;124m\"\u001b[39m \\\n\u001b[1;32m    804\u001b[0m               \u001b[38;5;241m.\u001b[39mformat(e\u001b[38;5;241m=\u001b[39mlegal_shape_str, a\u001b[38;5;241m=\u001b[39m\u001b[38;5;28mstr\u001b[39m(out_array\u001b[38;5;241m.\u001b[39mshape))\n\u001b[0;32m--> 805\u001b[0m     \u001b[38;5;28;01mraise\u001b[39;00m \u001b[38;5;167;01mValueError\u001b[39;00m(err_msg_start \u001b[38;5;241m+\u001b[39m err_msg)\n\u001b[1;32m    807\u001b[0m \u001b[38;5;66;03m# Convert shape\u001b[39;00m\n\u001b[1;32m    808\u001b[0m \u001b[38;5;28;01mif\u001b[39;00m squeeze:\n",
      "\u001b[0;31mValueError\u001b[0m: Parameter ``U``: Wrong shape (rows, columns): (1000, 2). Expected: (2, 1000)."
     ]
    }
   ],
   "source": [
    "# Define the closed-loop system\n",
    "sys_cl = c.ss(A - np.matmul(B,K), B, np.eye(6), np.zeros((6, 2)))\n",
    "\n",
    "# Define the time vector\n",
    "t = np.linspace(0, 10, 1000)\n",
    "\n",
    "# Define the input signal\n",
    "u = np.zeros((2, len(t)))\n",
    "u[0, 100:500] = 1.0  # input for the first actuator\n",
    "u[1, 500:800] = -0.5  # input for the second actuator\n",
    "\n",
    "# Define the initial condition\n",
    "x0 = [0, 0, 0, 0, 0, 0]\n",
    "\n",
    "# Simulate the closed-loop system with the input signal\n",
    "x,t = c.lsim(sys_cl, U=u, T=t, X0=x0)\n",
    "\n",
    "# Plot the response and input signals\n",
    "fig, ax = plt.subplots()\n",
    "ax.plot(t, y[:, 0], label='x')\n",
    "ax.plot(t, y[:, 1], label='y')\n",
    "ax.plot(t, u[0, :], label='Input 1')\n",
    "ax.plot(t, u[1, :], label='Input 2')\n",
    "ax.set_xlabel('Time [s]')\n",
    "ax.set_ylabel('Response / Input')\n",
    "ax.legend()\n",
    "ax.grid()\n",
    "plt.show()"
   ]
  },
  {
   "cell_type": "code",
   "execution_count": null,
   "metadata": {},
   "outputs": [],
   "source": [
    "def f2(theta):\n",
    "    theta1 = float(theta[0])\n",
    "    theta2 = float(theta[1])\n",
    "    theta1 = max(min(theta1, np.pi / 12), -np.pi / 12)\n",
    "    theta2 = max(min(theta2, np.pi / 12), -np.pi / 12)\n",
    "\n",
    "    thetad = theta1\n",
    "    R = 4.303\n",
    "    a = 2.065\n",
    "    L = 3.1259\n",
    "    x2 = -2.625\n",
    "    y20 = 1.2385\n",
    "    # s1\n",
    "\n",
    "    s1 = (R * np.cos(thetad) + a * np.sin(thetad) - y20) - (\n",
    "            (L ** 2) - (R * np.sin(thetad) - a * np.cos(thetad) - x2) ** 2) ** 0.5\n",
    "\n",
    "    thetad2 = theta2\n",
    "    # s2\n",
    "    s2 = (R * np.cos(thetad2) + a * np.sin(thetad2) - y20) - (\n",
    "            (L ** 2) - (R * np.sin(thetad2) - a * np.cos(thetad2) - x2) ** 2) ** 0.5\n",
    "    return (s1, s2)"
   ]
  }
 ],
 "metadata": {
  "kernelspec": {
   "display_name": "Python 3 (ipykernel)",
   "language": "python",
   "name": "python3"
  },
  "language_info": {
   "codemirror_mode": {
    "name": "ipython",
    "version": 3
   },
   "file_extension": ".py",
   "mimetype": "text/x-python",
   "name": "python",
   "nbconvert_exporter": "python",
   "pygments_lexer": "ipython3",
   "version": "3.9.7"
  },
  "vscode": {
   "interpreter": {
    "hash": "aee8b7b246df8f9039afb4144a1f6fd8d2ca17a180786b69acc140d282b71a49"
   }
  }
 },
 "nbformat": 4,
 "nbformat_minor": 2
}
